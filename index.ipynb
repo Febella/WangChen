{
  "cells": [
    {
      "cell_type": "markdown",
      "metadata": {},
      "source": [
        "# Wang Chen\n",
        "\n",
        "# This is my website!\n",
        "\n",
        "### ~BSU，EM24-A，Wang Chen\n",
        "\n",
        "#### ~Hobbies include singing and dancing. Graduated in Chinese Language and Literature."
      ],
      "id": "d2f49a82-7db2-445a-b4a8-b7d82e9a3adc"
    }
  ],
  "nbformat": 4,
  "nbformat_minor": 5,
  "metadata": {
    "kernelspec": {
      "display_name": "Python 3",
      "language": "python",
      "name": "python3"
    }
  }
}