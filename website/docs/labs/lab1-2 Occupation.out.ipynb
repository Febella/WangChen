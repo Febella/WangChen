{
  "cells": [
    {
      "cell_type": "markdown",
      "metadata": {},
      "source": [
        "# Ex3 - Getting and Knowing your Data\n",
        "\n",
        "This time we are going to pull data directly from the internet. Special\n",
        "thanks to: https://github.com/justmarkham for sharing the dataset and\n",
        "materials.\n",
        "\n",
        "### Step 1. Import the necessary libraries"
      ],
      "id": "c36b28fe-c0c0-41a2-9d01-ea9db27aa3ff"
    },
    {
      "cell_type": "code",
      "execution_count": 1,
      "metadata": {},
      "outputs": [],
      "source": [
        "import pandas as pd"
      ],
      "id": "cell-3"
    },
    {
      "cell_type": "markdown",
      "metadata": {},
      "source": [
        "### Step 2. Import the dataset from this [address](https://raw.githubusercontent.com/justmarkham/DAT8/master/data/u.user).\n",
        "\n",
        "### Step 3. Assign it to a variable called users and use the ‘user_id’ as index"
      ],
      "id": "cff262dd-815a-488a-aeed-9491e71f4abf"
    },
    {
      "cell_type": "code",
      "execution_count": 2,
      "metadata": {},
      "outputs": [],
      "source": [
        "url = 'https://raw.githubusercontent.com/justmarkham/DAT8/master/data/u.user'\n",
        "\n",
        "# Load the dataset into a DataFrame\n",
        "user_data = pd.read_csv(url, delimiter='|')"
      ],
      "id": "cell-6"
    },
    {
      "cell_type": "markdown",
      "metadata": {},
      "source": [
        "### Step 4. See the first 25 entries"
      ],
      "id": "3b60e9bc-db12-48ed-8a02-649064bf9787"
    },
    {
      "cell_type": "code",
      "execution_count": 3,
      "metadata": {
        "scrolled": true
      },
      "outputs": [
        {
          "output_type": "display_data",
          "metadata": {},
          "data": {
            "text/html": [
              "\n",
              "</div>"
            ]
          }
        }
      ],
      "source": [
        "df = pd.read_csv(url,sep='|')\n",
        "users = df\n",
        "users.set_index('user_id')\n",
        "users.head(25)"
      ],
      "id": "cell-8"
    },
    {
      "cell_type": "markdown",
      "metadata": {},
      "source": [
        "### Step 5. See the last 10 entries"
      ],
      "id": "84d93c98-3284-482f-bc0d-644cddf65ee4"
    },
    {
      "cell_type": "code",
      "execution_count": 4,
      "metadata": {
        "scrolled": true
      },
      "outputs": [
        {
          "output_type": "display_data",
          "metadata": {},
          "data": {
            "text/html": [
              "\n",
              "</div>"
            ]
          }
        }
      ],
      "source": [
        "users.tail(10)"
      ],
      "id": "cell-10"
    },
    {
      "cell_type": "markdown",
      "metadata": {},
      "source": [
        "### Step 6. What is the number of observations in the dataset?"
      ],
      "id": "c6875ac6-9ac5-4582-8763-124c56d78e04"
    },
    {
      "cell_type": "code",
      "execution_count": 5,
      "metadata": {},
      "outputs": [
        {
          "output_type": "stream",
          "name": "stdout",
          "text": [
            "943"
          ]
        }
      ],
      "source": [
        "num_rows = len(users)\n",
        "print(f\"{num_rows}\")\n"
      ],
      "id": "cell-12"
    },
    {
      "cell_type": "markdown",
      "metadata": {},
      "source": [
        "### Step 7. What is the number of columns in the dataset?"
      ],
      "id": "b6d7f9f2-5824-43d1-a3b5-5244d59ff7ea"
    },
    {
      "cell_type": "code",
      "execution_count": 6,
      "metadata": {},
      "outputs": [
        {
          "output_type": "stream",
          "name": "stdout",
          "text": [
            "5"
          ]
        }
      ],
      "source": [
        "num_columns = len(users.columns)\n",
        "print(f\"{num_columns}\")"
      ],
      "id": "cell-14"
    },
    {
      "cell_type": "markdown",
      "metadata": {},
      "source": [
        "### Step 8. Print the name of all the columns."
      ],
      "id": "2f59ec04-de76-4eef-b2f2-54aa736a1b10"
    },
    {
      "cell_type": "code",
      "execution_count": 7,
      "metadata": {},
      "outputs": [
        {
          "output_type": "display_data",
          "metadata": {},
          "data": {
            "text/plain": [
              "Index(['user_id', 'age', 'gender', 'occupation', 'zip_code'], dtype='object')"
            ]
          }
        }
      ],
      "source": [
        "users.columns"
      ],
      "id": "cell-16"
    },
    {
      "cell_type": "markdown",
      "metadata": {},
      "source": [
        "### Step 9. How is the dataset indexed?"
      ],
      "id": "4027e6fe-7d07-42a8-af56-9d413d2b7c4a"
    },
    {
      "cell_type": "code",
      "execution_count": 8,
      "metadata": {},
      "outputs": [
        {
          "output_type": "display_data",
          "metadata": {},
          "data": {
            "text/plain": [
              "RangeIndex(start=0, stop=943, step=1)"
            ]
          }
        }
      ],
      "source": [
        "users.index"
      ],
      "id": "cell-18"
    },
    {
      "cell_type": "markdown",
      "metadata": {},
      "source": [
        "### Step 10. What is the data type of each column?"
      ],
      "id": "608d8382-431a-440d-9ed9-14a6fc62e619"
    },
    {
      "cell_type": "code",
      "execution_count": 9,
      "metadata": {},
      "outputs": [
        {
          "output_type": "stream",
          "name": "stdout",
          "text": [
            "user_id        int64\n",
            "age            int64\n",
            "gender        object\n",
            "occupation    object\n",
            "zip_code      object"
          ]
        }
      ],
      "source": [
        "num_rows = len(df)\n",
        "dtypes = df.dtypes\n",
        "print(dtypes.to_string(header=False, index=True))"
      ],
      "id": "cell-20"
    },
    {
      "cell_type": "markdown",
      "metadata": {},
      "source": [
        "### Step 11. Print only the occupation column"
      ],
      "id": "341730c6-8b20-44b1-8ab7-590411615d3c"
    },
    {
      "cell_type": "code",
      "execution_count": 10,
      "metadata": {},
      "outputs": [
        {
          "output_type": "stream",
          "name": "stdout",
          "text": [
            "0         technician\n",
            "1              other\n",
            "2             writer\n",
            "3         technician\n",
            "4              other\n",
            "           ...      \n",
            "938          student\n",
            "939    administrator\n",
            "940          student\n",
            "941        librarian\n",
            "942          student\n",
            "Name: occupation, Length: 943, dtype: object"
          ]
        }
      ],
      "source": [
        "print(users['occupation'])"
      ],
      "id": "cell-22"
    },
    {
      "cell_type": "markdown",
      "metadata": {},
      "source": [
        "### Step 12. How many different occupations are in this dataset?"
      ],
      "id": "efea24f9-e8cb-4565-83e9-9dede2f78d0b"
    },
    {
      "cell_type": "code",
      "execution_count": 11,
      "metadata": {},
      "outputs": [
        {
          "output_type": "display_data",
          "metadata": {},
          "data": {
            "text/plain": [
              "21"
            ]
          }
        }
      ],
      "source": [
        "users.occupation.nunique()"
      ],
      "id": "cell-24"
    },
    {
      "cell_type": "markdown",
      "metadata": {},
      "source": [
        "### Step 13. What is the most frequent occupation?"
      ],
      "id": "a54ac605-2ae5-4b1a-95cf-7c365d986c43"
    },
    {
      "cell_type": "code",
      "execution_count": 12,
      "metadata": {},
      "outputs": [
        {
          "output_type": "stream",
          "name": "stdout",
          "text": [
            "student"
          ]
        }
      ],
      "source": [
        "most_common_occupation = users['occupation'].value_counts().idxmax()\n",
        "print(f\"{most_common_occupation}\")"
      ],
      "id": "cell-26"
    },
    {
      "cell_type": "markdown",
      "metadata": {},
      "source": [
        "### Step 14. Summarize the DataFrame."
      ],
      "id": "8885e052-f5c0-4341-a658-7541061b5786"
    },
    {
      "cell_type": "code",
      "execution_count": 13,
      "metadata": {},
      "outputs": [
        {
          "output_type": "stream",
          "name": "stdout",
          "text": [
            "           user_id         age\n",
            "count   943.000000  943.000000\n",
            "unique         NaN         NaN\n",
            "top            NaN         NaN\n",
            "freq           NaN         NaN\n",
            "mean    472.000000   34.051962\n",
            "std     272.364951   12.192740\n",
            "min       1.000000    7.000000\n",
            "25%     236.500000   25.000000\n",
            "50%     472.000000   31.000000\n",
            "75%     707.500000   43.000000\n",
            "max     943.000000   73.000000"
          ]
        }
      ],
      "source": [
        "description = users.describe(include='all')\n",
        "selected_columns = description.loc[:, [description.columns[0], 'age']]\n",
        "print(selected_columns)"
      ],
      "id": "cell-28"
    },
    {
      "cell_type": "markdown",
      "metadata": {},
      "source": [
        "### Step 15. Summarize all the columns"
      ],
      "id": "8977d7e3-46bc-4f61-b900-2ac5c7f5b0c7"
    },
    {
      "cell_type": "code",
      "execution_count": 14,
      "metadata": {},
      "outputs": [
        {
          "output_type": "stream",
          "name": "stdout",
          "text": [
            "            count unique      top freq       mean         std  min    25%    50%    75%    max\n",
            "user_id     943.0    NaN      NaN  NaN      472.0  272.364951  1.0  236.5  472.0  707.5  943.0\n",
            "age         943.0    NaN      NaN  NaN  34.051962    12.19274  7.0   25.0   31.0   43.0   73.0\n",
            "gender        943      2        M  670        NaN         NaN  NaN    NaN    NaN    NaN    NaN\n",
            "occupation    943     21  student  196        NaN         NaN  NaN    NaN    NaN    NaN    NaN\n",
            "zip_code      943    795    55414    9        NaN         NaN  NaN    NaN    NaN    NaN    NaN"
          ]
        }
      ],
      "source": [
        "summary = users.describe(include='all').transpose()\n",
        "pd.set_option('display.width', 400) \n",
        "print(summary)"
      ],
      "id": "cell-30"
    },
    {
      "cell_type": "markdown",
      "metadata": {},
      "source": [
        "### Step 16. Summarize only the occupation column"
      ],
      "id": "21d27a3c-9d53-4cd1-83d9-9610813a6849"
    },
    {
      "cell_type": "code",
      "execution_count": 15,
      "metadata": {},
      "outputs": [
        {
          "output_type": "stream",
          "name": "stdout",
          "text": [
            "count         943\n",
            "unique         21\n",
            "top       student\n",
            "freq          196\n",
            "Name: occupation, dtype: object"
          ]
        }
      ],
      "source": [
        "occupation_summary = users['occupation'].describe()\n",
        "print(occupation_summary)"
      ],
      "id": "cell-32"
    },
    {
      "cell_type": "markdown",
      "metadata": {},
      "source": [
        "### Step 17. What is the mean age of users?"
      ],
      "id": "fde8301e-4a55-4544-a5a4-d4ddba21dc1b"
    },
    {
      "cell_type": "code",
      "execution_count": 16,
      "metadata": {},
      "outputs": [
        {
          "output_type": "stream",
          "name": "stdout",
          "text": [
            "34"
          ]
        }
      ],
      "source": [
        "import numpy as np\n",
        "mean_age_floor = np.floor(users.age.mean()).astype(int)\n",
        "print(mean_age_floor) "
      ],
      "id": "cell-34"
    },
    {
      "cell_type": "markdown",
      "metadata": {},
      "source": [
        "### Step 18. What is the age with least occurrence?"
      ],
      "id": "370696ba-3a39-4ad4-89a8-89d05ff0001b"
    },
    {
      "cell_type": "code",
      "execution_count": 17,
      "metadata": {},
      "outputs": [
        {
          "output_type": "stream",
          "name": "stdout",
          "text": [
            "age\n",
            "7     1\n",
            "11    1\n",
            "66    1\n",
            "10    1\n",
            "73    1\n",
            "Name: age, dtype: int64"
          ]
        }
      ],
      "source": [
        "age_counts = users['age'].value_counts()\n",
        "least_occurrence_ages = age_counts[age_counts == 1]\n",
        "least_occurrence_ages.name = 'age'\n",
        "print(least_occurrence_ages)"
      ],
      "id": "cell-36"
    }
  ],
  "nbformat": 4,
  "nbformat_minor": 5,
  "metadata": {
    "anaconda-cloud": {},
    "kernelspec": {
      "name": "python3",
      "display_name": "Python 3",
      "language": "python"
    },
    "language_info": {
      "name": "python",
      "codemirror_mode": {
        "name": "ipython",
        "version": "3"
      },
      "file_extension": ".py",
      "mimetype": "text/x-python",
      "nbconvert_exporter": "python",
      "pygments_lexer": "ipython3",
      "version": "3.13.0"
    }
  }
}